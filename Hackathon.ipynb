{
 "cells": [
  {
   "cell_type": "code",
   "execution_count": null,
   "metadata": {},
   "outputs": [],
   "source": [
    "import os\n",
    "os.environ['TF_CPP_MIN_LOG_LEVEL'] = '1'\n",
    "import numpy as np\n",
    "import scipy.sparse as sp\n",
    "import networkx as nx\n",
    "import matplotlib.pyplot as plt\n",
    "import scipy.optimize\n",
    "import collections\n",
    "import math\n",
    "import time\n",
    "import itertools\n",
    "from scipy.linalg import expm, sinm, cosm, logm"
   ]
  },
  {
   "cell_type": "code",
   "execution_count": null,
   "metadata": {},
   "outputs": [],
   "source": [
    "N=2\n",
    "sx = sp.csr_matrix([[0.0,1.0],[1.0,0.0]])\n",
    "sz = sp.csr_matrix([[1.0,0.0],[0.0,-1.0]])\n",
    "sy = -1j * (sz @ sx)\n",
    "\n",
    "def generate_operators(op, N):\n",
    "    return [sp.kron(sp.eye(2**i),\n",
    "                    sp.kron(op, sp.eye(2**(N-i-1))))\n",
    "            for i in range(N)]\n",
    "\n",
    "sx = generate_operators(sx, N)\n",
    "sy = generate_operators(sy, N)\n",
    "sz = generate_operators(sz, N)\n",
    "p= np.random.normal(0,3,int(N*(N-1)/2+2*N))\n",
    "\n",
    "        \n",
    "                \n",
    "def cost(args):\n",
    "        \n",
    "    Psi=np.ones(2**N)*1/(2**(N/2))     \n",
    "    Index=np.zeros(N)\n",
    "    Index[0:2]=3\n",
    "    a=list(itertools.permutations(Index))\n",
    "    a=list(dict.fromkeys(a))\n",
    "    H=0\n",
    "    for i in range(int(N*(N-1)/2)):\n",
    "            \n",
    "        s=1\n",
    "        for j in a[i]:\n",
    "                \n",
    "            if j==0:\n",
    "                s1=sp.csr_matrix([[1.0,0.0],[0.0,1.0]])\n",
    "            if j==3:\n",
    "                s1=sp.csr_matrix([[1.0,0.0],[0.0,-1.0]])                    \n",
    "            s=sp.kron(s,s1)\n",
    "                \n",
    "        H=H+args[i]*s\n",
    "        \n",
    "    for j in range(int(N*(N-1)/2)):\n",
    "            \n",
    "        H=H+sz[j]*args[j+int(N*(N-1)/2)]+sx[j]*args[j+int(N*(N-1)/2+N)]\n",
    "        \n",
    "    Yexp=np.conj(expm(H)@Psi)*(expm(H)@Psi)\n",
    "    Yteo=[0.1,0.4,0.3,0.2]\n",
    "    cost=0\n",
    "    for i in range(2**N):\n",
    "            \n",
    "        cost=Yteo[i]*np.log(Yexp[i])\n",
    "             \n",
    "    return cost\n",
    "             \n",
    "opt = scipy.optimize.minimize(cost, p)\n",
    "opt['x']\n",
    "        "
   ]
  }
 ],
 "metadata": {
  "kernelspec": {
   "display_name": "Python 3",
   "language": "python",
   "name": "python3"
  },
  "language_info": {
   "codemirror_mode": {
    "name": "ipython",
    "version": 3
   },
   "file_extension": ".py",
   "mimetype": "text/x-python",
   "name": "python",
   "nbconvert_exporter": "python",
   "pygments_lexer": "ipython3",
   "version": "3.7.4"
  }
 },
 "nbformat": 4,
 "nbformat_minor": 2
}
