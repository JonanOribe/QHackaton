{
 "cells": [
  {
   "cell_type": "code",
   "execution_count": 1,
   "metadata": {},
   "outputs": [
    {
     "name": "stdout",
     "output_type": "stream",
     "text": [
      "Requirement already satisfied: pandas_datareader==0.7.0 in /home/user/anaconda3/lib/python3.7/site-packages (0.7.0)\n",
      "Requirement already satisfied: pandas>=0.19.2 in /home/user/anaconda3/lib/python3.7/site-packages (from pandas_datareader==0.7.0) (0.25.1)\n",
      "Requirement already satisfied: wrapt in /home/user/anaconda3/lib/python3.7/site-packages (from pandas_datareader==0.7.0) (1.11.2)\n",
      "Requirement already satisfied: lxml in /home/user/anaconda3/lib/python3.7/site-packages (from pandas_datareader==0.7.0) (4.4.1)\n",
      "Requirement already satisfied: requests>=2.3.0 in /home/user/anaconda3/lib/python3.7/site-packages (from pandas_datareader==0.7.0) (2.22.0)\n",
      "Requirement already satisfied: numpy>=1.13.3 in /home/user/anaconda3/lib/python3.7/site-packages (from pandas>=0.19.2->pandas_datareader==0.7.0) (1.17.2)\n",
      "Requirement already satisfied: pytz>=2017.2 in /home/user/anaconda3/lib/python3.7/site-packages (from pandas>=0.19.2->pandas_datareader==0.7.0) (2019.3)\n",
      "Requirement already satisfied: python-dateutil>=2.6.1 in /home/user/anaconda3/lib/python3.7/site-packages (from pandas>=0.19.2->pandas_datareader==0.7.0) (2.8.0)\n",
      "Requirement already satisfied: certifi>=2017.4.17 in /home/user/anaconda3/lib/python3.7/site-packages (from requests>=2.3.0->pandas_datareader==0.7.0) (2019.9.11)\n",
      "Requirement already satisfied: idna<2.9,>=2.5 in /home/user/anaconda3/lib/python3.7/site-packages (from requests>=2.3.0->pandas_datareader==0.7.0) (2.8)\n",
      "Requirement already satisfied: urllib3!=1.25.0,!=1.25.1,<1.26,>=1.21.1 in /home/user/anaconda3/lib/python3.7/site-packages (from requests>=2.3.0->pandas_datareader==0.7.0) (1.24.2)\n",
      "Requirement already satisfied: chardet<3.1.0,>=3.0.2 in /home/user/anaconda3/lib/python3.7/site-packages (from requests>=2.3.0->pandas_datareader==0.7.0) (3.0.4)\n",
      "Requirement already satisfied: six>=1.5 in /home/user/anaconda3/lib/python3.7/site-packages (from python-dateutil>=2.6.1->pandas>=0.19.2->pandas_datareader==0.7.0) (1.12.0)\n"
     ]
    }
   ],
   "source": [
    "!pip install pandas_datareader==0.7.0\n",
    "from IPython.core.debugger import set_trace\n",
    "import yfinance as yf\n",
    "import os, pickle\n",
    "import pandas as pd, numpy as np\n",
    "import matplotlib.pyplot as plt\n",
    "\n",
    "### Import plotting things:\n",
    "import matplotlib.pyplot as plt\n",
    "import seaborn as sns\n",
    "\n",
    "from scipy.stats import norm, laplace, johnsonsu\n",
    "from scipy import stats\n",
    "sns.set(style=\"darkgrid\")"
   ]
  },
  {
   "cell_type": "code",
   "execution_count": 2,
   "metadata": {},
   "outputs": [
    {
     "data": {
      "text/html": [
       "<div>\n",
       "<style scoped>\n",
       "    .dataframe tbody tr th:only-of-type {\n",
       "        vertical-align: middle;\n",
       "    }\n",
       "\n",
       "    .dataframe tbody tr th {\n",
       "        vertical-align: top;\n",
       "    }\n",
       "\n",
       "    .dataframe thead th {\n",
       "        text-align: right;\n",
       "    }\n",
       "</style>\n",
       "<table border=\"1\" class=\"dataframe\">\n",
       "  <thead>\n",
       "    <tr style=\"text-align: right;\">\n",
       "      <th></th>\n",
       "      <th>UTCDate_UTCTime</th>\n",
       "      <th>Price</th>\n",
       "      <th>Quantity</th>\n",
       "      <th>isBuy</th>\n",
       "      <th>isSell</th>\n",
       "    </tr>\n",
       "  </thead>\n",
       "  <tbody>\n",
       "    <tr>\n",
       "      <td>0</td>\n",
       "      <td>2017-12-11 00:00:12.196</td>\n",
       "      <td>2656.25</td>\n",
       "      <td>2</td>\n",
       "      <td>0</td>\n",
       "      <td>1</td>\n",
       "    </tr>\n",
       "    <tr>\n",
       "      <td>1</td>\n",
       "      <td>2017-12-11 00:00:12.196</td>\n",
       "      <td>2656.25</td>\n",
       "      <td>3</td>\n",
       "      <td>0</td>\n",
       "      <td>1</td>\n",
       "    </tr>\n",
       "    <tr>\n",
       "      <td>2</td>\n",
       "      <td>2017-12-11 00:00:12.196</td>\n",
       "      <td>2656.25</td>\n",
       "      <td>1</td>\n",
       "      <td>0</td>\n",
       "      <td>1</td>\n",
       "    </tr>\n",
       "    <tr>\n",
       "      <td>3</td>\n",
       "      <td>2017-12-11 00:00:12.196</td>\n",
       "      <td>2656.25</td>\n",
       "      <td>2</td>\n",
       "      <td>0</td>\n",
       "      <td>1</td>\n",
       "    </tr>\n",
       "    <tr>\n",
       "      <td>4</td>\n",
       "      <td>2017-12-11 00:00:12.197</td>\n",
       "      <td>2656.25</td>\n",
       "      <td>4</td>\n",
       "      <td>0</td>\n",
       "      <td>1</td>\n",
       "    </tr>\n",
       "    <tr>\n",
       "      <td>...</td>\n",
       "      <td>...</td>\n",
       "      <td>...</td>\n",
       "      <td>...</td>\n",
       "      <td>...</td>\n",
       "      <td>...</td>\n",
       "    </tr>\n",
       "    <tr>\n",
       "      <td>4166481</td>\n",
       "      <td>2018-02-02 21:59:59.396</td>\n",
       "      <td>2757.25</td>\n",
       "      <td>1</td>\n",
       "      <td>0</td>\n",
       "      <td>1</td>\n",
       "    </tr>\n",
       "    <tr>\n",
       "      <td>4166482</td>\n",
       "      <td>2018-02-02 21:59:59.541</td>\n",
       "      <td>2757.25</td>\n",
       "      <td>3</td>\n",
       "      <td>0</td>\n",
       "      <td>1</td>\n",
       "    </tr>\n",
       "    <tr>\n",
       "      <td>4166483</td>\n",
       "      <td>2018-02-02 21:59:59.543</td>\n",
       "      <td>2757.25</td>\n",
       "      <td>1</td>\n",
       "      <td>0</td>\n",
       "      <td>1</td>\n",
       "    </tr>\n",
       "    <tr>\n",
       "      <td>4166484</td>\n",
       "      <td>2018-02-02 21:59:59.787</td>\n",
       "      <td>2757.25</td>\n",
       "      <td>1</td>\n",
       "      <td>0</td>\n",
       "      <td>1</td>\n",
       "    </tr>\n",
       "    <tr>\n",
       "      <td>4166485</td>\n",
       "      <td>2018-02-02 21:59:59.923</td>\n",
       "      <td>2757.25</td>\n",
       "      <td>25</td>\n",
       "      <td>0</td>\n",
       "      <td>1</td>\n",
       "    </tr>\n",
       "  </tbody>\n",
       "</table>\n",
       "<p>4166486 rows × 5 columns</p>\n",
       "</div>"
      ],
      "text/plain": [
       "                 UTCDate_UTCTime    Price  Quantity  isBuy  isSell\n",
       "0        2017-12-11 00:00:12.196  2656.25         2      0       1\n",
       "1        2017-12-11 00:00:12.196  2656.25         3      0       1\n",
       "2        2017-12-11 00:00:12.196  2656.25         1      0       1\n",
       "3        2017-12-11 00:00:12.196  2656.25         2      0       1\n",
       "4        2017-12-11 00:00:12.197  2656.25         4      0       1\n",
       "...                          ...      ...       ...    ...     ...\n",
       "4166481  2018-02-02 21:59:59.396  2757.25         1      0       1\n",
       "4166482  2018-02-02 21:59:59.541  2757.25         3      0       1\n",
       "4166483  2018-02-02 21:59:59.543  2757.25         1      0       1\n",
       "4166484  2018-02-02 21:59:59.787  2757.25         1      0       1\n",
       "4166485  2018-02-02 21:59:59.923  2757.25        25      0       1\n",
       "\n",
       "[4166486 rows x 5 columns]"
      ]
     },
     "execution_count": 2,
     "metadata": {},
     "output_type": "execute_result"
    }
   ],
   "source": [
    "df = pd.read_csv('2018tradesTicks.csv',names=['UTCDate_UTCTime', 'Price', 'Quantity', 'isBuy', 'isSell'])\n",
    "# Preview the first N lines of the loaded data \n",
    "da_max=df['Quantity']\n",
    "da_max.min()\n",
    "df"
   ]
  },
  {
   "cell_type": "code",
   "execution_count": 3,
   "metadata": {},
   "outputs": [
    {
     "name": "stdout",
     "output_type": "stream",
     "text": [
      "       Price  Count\n",
      "0    2656.25     14\n",
      "1    2656.00     28\n",
      "2    2655.75     51\n",
      "3    2655.50    159\n",
      "4    2655.25    300\n",
      "..       ...    ...\n",
      "903  2877.50    613\n",
      "904  2877.75    640\n",
      "905  2878.00    553\n",
      "906  2878.25    147\n",
      "907  2878.50    129\n",
      "\n",
      "[908 rows x 2 columns]\n"
     ]
    },
    {
     "data": {
      "image/png": "[encoded data removed]",
      "text/plain": [
       "<Figure size 432x288 with 1 Axes>"
      ]
     },
     "metadata": {
      "needs_background": "light"
     },
     "output_type": "display_data"
    }
   ],
   "source": [
    "da_max[da_max>256]\n",
    "type(da_max)\n",
    "\n",
    "df_precios_unique=df['Price'].unique()\n",
    "\n",
    "\n",
    "precios_unique = df.pivot_table(index=['Price'], aggfunc='size')\n",
    "\n",
    "df_precios = pd.DataFrame()\n",
    "df_precios['Price']=df_precios_unique\n",
    "df_precios['Count']=precios_unique.tolist()\n",
    "\n",
    "sns.distplot(precios_unique);\n",
    "print(df_precios)    \n"
   ]
  },
  {
   "cell_type": "code",
   "execution_count": 11,
   "metadata": {},
   "outputs": [
    {
     "name": "stdout",
     "output_type": "stream",
     "text": [
      "0.9999999999999999\n",
      "1.0\n",
      "1.0\n",
      "1.0\n",
      "1.0\n",
      "1.0\n",
      "1.0\n",
      "1.0000000000000002\n",
      "1.0\n",
      "1.0\n",
      "0.9999999999999998\n",
      "0.9999999999999999\n",
      "1.0\n",
      "1.0\n",
      "1.0\n",
      "1.0000000000000002\n",
      "1.0000000000000002\n",
      "0.9999999999999999\n",
      "1.0\n",
      "0.9999999999999999\n",
      "1.0\n",
      "1.0\n",
      "0.9999999999999999\n",
      "0.9999999999999999\n",
      "0.9999999999999999\n",
      "1.0\n",
      "0.9999999999999999\n",
      "1.0\n",
      "1.0\n",
      "0.9999999999999999\n",
      "1.0\n",
      "1.0\n",
      "0.9999999999999998\n",
      "1.0\n",
      "1.0\n",
      "0.9999999999999999\n",
      "1.0\n",
      "1.0\n",
      "1.0\n",
      "1.0000000000000002\n",
      "1.0\n",
      "1.0000000000000002\n",
      "0.9999999999999999\n",
      "1.0\n",
      "0.9999999999999998\n",
      "1.0\n",
      "1.0\n",
      "0.9999999999999999\n",
      "1.0\n",
      "1.0\n",
      "1.0\n",
      "0.9999999999999999\n",
      "1.0000000000000002\n",
      "1.0\n",
      "1.0\n",
      "1.0\n",
      "1.0\n",
      "1.0\n",
      "1.0\n",
      "0.9999999999999999\n",
      "1.0\n",
      "1.0\n",
      "1.0\n",
      "0.9999999999999999\n"
     ]
    }
   ],
   "source": [
    "partition=64\n",
    "\n",
    "df_split = np.array_split(df_precios, partition)\n",
    "\n",
    "indice=0\n",
    "for dataframe in df_split:\n",
    "    arr_temp_values=[]\n",
    "    arr_temp_price=[]\n",
    "    for index, row in df_split[indice].iterrows():\n",
    "        value=row['Count']/df_split[indice]['Count'].sum()\n",
    "        price=row['Price']\n",
    "        arr_temp_values.append(value)\n",
    "        arr_temp_price.append(price)\n",
    "        \n",
    "    minimum=[]   \n",
    "    maximum=[]\n",
    "    suma=[]\n",
    "    peak=[]\n",
    "    minimum.append(df_split[indice]['Count'].min())\n",
    "    maximum.append(df_split[indice]['Count'].max())\n",
    "    suma.append(df_split[indice]['Count'].sum())\n",
    "    peak.append(str((maximum[0]-minimum[0])/suma[0]))\n",
    "    \n",
    "    \n",
    "    df_temp_peak=pd.DataFrame()\n",
    "    df_temp_peak['MIN']=minimum\n",
    "    df_temp_peak['MAX']=maximum\n",
    "    df_temp_peak['SUM']=suma\n",
    "    df_temp_peak['PEAK']=peak\n",
    "    \n",
    "    df_temp_peak.to_csv('df_temp_peak'+str(indice)+'.csv', sep=';')\n",
    "        \n",
    "    df_temp=pd.DataFrame()\n",
    "    df_temp['Prices']=arr_temp_price\n",
    "    df_temp['Percent']=arr_temp_values\n",
    "    df_temp.to_csv('df_temp_'+str(indice)+'.csv', sep=';')\n",
    "    indice=indice+1\n",
    "    '''\n",
    "    min=df_split[indice]['Count'].min()\n",
    "    max=df_split[indice]['Count'].max()\n",
    "    sum=df_split[indice]['Count'].sum()\n",
    "    peak=(max-min)/sum\n",
    "    print(peak)\n",
    "    \n",
    "    df_temp=pd.DataFrame()\n",
    "    '''\n",
    "    \n",
    "    print(df_temp['Percent'].sum())\n"
   ]
  },
  {
   "cell_type": "code",
   "execution_count": 5,
   "metadata": {},
   "outputs": [
    {
     "data": {
      "text/plain": [
       "'\\narr=[]\\ndf=df[:100]\\nunique_dates=df[\\'UTCDate_UTCTime\\'].unique()\\nfor element in unique_dates:\\n    temp=element.split(\" \")\\n    arr.append(temp[0])\\n\\nfor index, row in df.iterrows():\\n    temp=row[\\'UTCDate_UTCTime\\'].split(\" \")\\n    #print(str(row[\\'UTCDate_UTCTime\\']))\\n    for element in arr:\\n        if element in temp[0]:\\n            row[\\'UTCDate_UTCTime\\']=temp[0]\\n            #print(temp[0])\\n#set_trace()\\n#%debug\\nrow[\\'UTCDate_UTCTime\\']\\n#grouper = df.groupby([\\'UTCDate_UTCTime\\']).sum()\\n#grouper\\n'"
      ]
     },
     "execution_count": 5,
     "metadata": {},
     "output_type": "execute_result"
    }
   ],
   "source": [
    "'''\n",
    "arr=[]\n",
    "df=df[:100]\n",
    "unique_dates=df['UTCDate_UTCTime'].unique()\n",
    "for element in unique_dates:\n",
    "    temp=element.split(\" \")\n",
    "    arr.append(temp[0])\n",
    "\n",
    "for index, row in df.iterrows():\n",
    "    temp=row['UTCDate_UTCTime'].split(\" \")\n",
    "    #print(str(row['UTCDate_UTCTime']))\n",
    "    for element in arr:\n",
    "        if element in temp[0]:\n",
    "            row['UTCDate_UTCTime']=temp[0]\n",
    "            #print(temp[0])\n",
    "#set_trace()\n",
    "#%debug\n",
    "row['UTCDate_UTCTime']\n",
    "#grouper = df.groupby(['UTCDate_UTCTime']).sum()\n",
    "#grouper\n",
    "'''"
   ]
  },
  {
   "cell_type": "code",
   "execution_count": 6,
   "metadata": {},
   "outputs": [
    {
     "data": {
      "text/plain": [
       "\"\\ngrouper['Price']=grouper['Price']/(grouper['isBuy']+grouper['isSell'])\\n\\nfor index, row in grouper.iterrows():\\n    row['Price']=row['Price']/(row['isBuy']+row['isSell'])\\n    \\ngrouper\\n\""
      ]
     },
     "execution_count": 6,
     "metadata": {},
     "output_type": "execute_result"
    }
   ],
   "source": [
    "'''\n",
    "grouper['Price']=grouper['Price']/(grouper['isBuy']+grouper['isSell'])\n",
    "\n",
    "for index, row in grouper.iterrows():\n",
    "    row['Price']=row['Price']/(row['isBuy']+row['isSell'])\n",
    "    \n",
    "grouper\n",
    "'''"
   ]
  },
  {
   "cell_type": "code",
   "execution_count": 7,
   "metadata": {},
   "outputs": [
    {
     "data": {
      "text/plain": [
       "\"\\nax = sns.lineplot(x=unique_dates, y=grouper['Price'], data=grouper)\\n#unique_dates\\n\""
      ]
     },
     "execution_count": 7,
     "metadata": {},
     "output_type": "execute_result"
    }
   ],
   "source": [
    "'''\n",
    "ax = sns.lineplot(x=unique_dates, y=grouper['Price'], data=grouper)\n",
    "#unique_dates\n",
    "'''"
   ]
  },
  {
   "cell_type": "code",
   "execution_count": null,
   "metadata": {},
   "outputs": [],
   "source": []
  }
 ],
 "metadata": {
  "kernelspec": {
   "display_name": "Python 3",
   "language": "python",
   "name": "python3"
  },
  "language_info": {
   "codemirror_mode": {
    "name": "ipython",
    "version": 3
   },
   "file_extension": ".py",
   "mimetype": "text/x-python",
   "name": "python",
   "nbconvert_exporter": "python",
   "pygments_lexer": "ipython3",
   "version": "3.7.4"
  }
 },
 "nbformat": 4,
 "nbformat_minor": 2
}
