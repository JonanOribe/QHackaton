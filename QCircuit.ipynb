{
 "cells": [
  {
   "cell_type": "code",
   "execution_count": 34,
   "metadata": {},
   "outputs": [],
   "source": [
    "import numpy as np\n",
    "from qiskit import *\n",
    "import itertools"
   ]
  },
  {
   "cell_type": "code",
   "execution_count": 39,
   "metadata": {},
   "outputs": [],
   "source": [
    "N          = 5  # Qubits\n",
    "Time       = 1.\n",
    "time_steps = 20\n",
    "tstep      = Time/time_steps"
   ]
  },
  {
   "cell_type": "code",
   "execution_count": 40,
   "metadata": {},
   "outputs": [],
   "source": [
    "circ = QuantumCircuit(N)"
   ]
  },
  {
   "cell_type": "code",
   "execution_count": 44,
   "metadata": {},
   "outputs": [
    {
     "ename": "NameError",
     "evalue": "name 'opt' is not defined",
     "output_type": "error",
     "traceback": [
      "\u001b[0;31m---------------------------------------------------------------------------\u001b[0m",
      "\u001b[0;31mNameError\u001b[0m                                 Traceback (most recent call last)",
      "\u001b[0;32m<ipython-input-44-0692ccbb2033>\u001b[0m in \u001b[0;36m<module>\u001b[0;34m\u001b[0m\n\u001b[1;32m     26\u001b[0m     \u001b[0;32mfor\u001b[0m \u001b[0mi\u001b[0m \u001b[0;32min\u001b[0m \u001b[0mrange\u001b[0m\u001b[0;34m(\u001b[0m\u001b[0mlen\u001b[0m\u001b[0;34m(\u001b[0m\u001b[0ma\u001b[0m\u001b[0;34m)\u001b[0m\u001b[0;34m)\u001b[0m\u001b[0;34m:\u001b[0m\u001b[0;34m\u001b[0m\u001b[0;34m\u001b[0m\u001b[0m\n\u001b[1;32m     27\u001b[0m \u001b[0;34m\u001b[0m\u001b[0m\n\u001b[0;32m---> 28\u001b[0;31m         \u001b[0moptimized_p\u001b[0m\u001b[0;34m[\u001b[0m\u001b[0ma\u001b[0m\u001b[0;34m[\u001b[0m\u001b[0mi\u001b[0m\u001b[0;34m]\u001b[0m\u001b[0;34m]\u001b[0m \u001b[0;34m=\u001b[0m \u001b[0mopt\u001b[0m\u001b[0;34m[\u001b[0m\u001b[0;34m'x'\u001b[0m\u001b[0;34m]\u001b[0m\u001b[0;34m[\u001b[0m\u001b[0mi\u001b[0m\u001b[0;34m]\u001b[0m\u001b[0;34m\u001b[0m\u001b[0;34m\u001b[0m\u001b[0m\n\u001b[0m\u001b[1;32m     29\u001b[0m         \u001b[0ms\u001b[0m \u001b[0;34m=\u001b[0m \u001b[0;34m[\u001b[0m\u001b[0;34m]\u001b[0m\u001b[0;34m\u001b[0m\u001b[0;34m\u001b[0m\u001b[0m\n\u001b[1;32m     30\u001b[0m \u001b[0;34m\u001b[0m\u001b[0m\n",
      "\u001b[0;31mNameError\u001b[0m: name 'opt' is not defined"
     ]
    }
   ],
   "source": [
    "# Puertas lógicas que simulan la interacción del Hamiltoniano de Ising \n",
    "\n",
    "Index      = np.zeros(N)\n",
    "Index[0:2] = 1.\n",
    "a = list(itertools.permutations(Index))\n",
    "a = list(dict.fromkeys(a))\n",
    "\n",
    "optimized_p = {}\n",
    "\n",
    "#Creamos un estado máximamente entrelazado\n",
    "\n",
    "t = 0.\n",
    "\n",
    "for l in range(time_steps) :\n",
    "    \n",
    "    t = t + l*tstep\n",
    "\n",
    "    for i in range(N) :\n",
    "    \n",
    "        circ.h(i)\n",
    "    \n",
    "    circ.barrier()\n",
    "\n",
    "    #Simulamos la evolución del estado con puertas CNOT rotaciones en z y puertas x y z.\n",
    "    \n",
    "    for i in range(len(a)):\n",
    "    \n",
    "        optimized_p[a[i]] = opt['x'][i]\n",
    "        s = []\n",
    "    \n",
    "        for j in a[i] :\n",
    "        \n",
    "            if j==1 :\n",
    "            \n",
    "                s.append(j) \n",
    "            \n",
    "        circ.cx(s[0],s[1])\n",
    "        circ.rz((t/tsteps)*optimized_p[a[i]],s[1])\n",
    "        circ.cx(s[0],s[1])\n",
    "\n",
    "    \n",
    "    # Puertas lógicas que simulan el término onsite y  del Hamiltoniano de Ising \n",
    "\n",
    "    for i in range(N) :\n",
    "    \n",
    "        circ.rz((t/tsteps)*opt['x'][int(N(N-1)/2)+i],i)\n",
    "        circ.rx((t/tsteps)*opt['x'][int(N(N-1)/2+N)+i],i)\n",
    "        \n",
    "    circ.barrier()"
   ]
  },
  {
   "cell_type": "code",
   "execution_count": 43,
   "metadata": {},
   "outputs": [
    {
     "data": {
      "image/png": "[encoded data removed]",
      "text/plain": [
       "<Figure size 216.72x325.08 with 1 Axes>"
      ]
     },
     "execution_count": 43,
     "metadata": {},
     "output_type": "execute_result"
    }
   ],
   "source": [
    "circ.draw(output='mpl')"
   ]
  }
 ],
 "metadata": {
  "kernelspec": {
   "display_name": "Python 3",
   "language": "python",
   "name": "python3"
  },
  "language_info": {
   "codemirror_mode": {
    "name": "ipython",
    "version": 3
   },
   "file_extension": ".py",
   "mimetype": "text/x-python",
   "name": "python",
   "nbconvert_exporter": "python",
   "pygments_lexer": "ipython3",
   "version": "3.7.4"
  }
 },
 "nbformat": 4,
 "nbformat_minor": 2
}
